{
 "cells": [
  {
   "cell_type": "markdown",
   "id": "b51ea56e",
   "metadata": {},
   "source": [
    "canny边缘检测"
   ]
  },
  {
   "cell_type": "code",
   "execution_count": null,
   "id": "989fcfda",
   "metadata": {},
   "outputs": [],
   "source": [
    "import cv2 as cv\n",
    "import numpy as np\n",
    "\n",
    "src = cv.imread(PictureAddress)                        # 读取图像文件\n",
    "cv.namedWindow(\"input\", cv.WINDOW_AUTOSIZE)            # 创建可自动调整大小的窗口\n",
    "cv.imshow(\"input\", src)                                # 显示图像\n",
    "\n",
    "\n",
    "# t1 = 100, t2 = 3*t1 = 300  低阈值（t1），强度梯度低于此值被抑制，高阈值（t2=3*t1），梯度高于此值判定为强边缘\n",
    "edges= cv.Canny(src, 100, 300)                         # 先用Canny算法检测图像边缘（输出二值图）\n",
    "edge_src = cv.bitwise_and(src, src, mask=edges)        # 通过bitwise_and将原图与边缘掩膜结合,最终效果：仅保留原图中边缘对应的像素区域，双src输入表示对同一图像做自操作\n",
    "h, w = src.shape[:2]                                   # h, w：获取原图高度/宽度\n",
    "result = np.zeros([h, w*2,3], dtype=src.dtype)         # result：创建3通道黑色画布（宽度为原图2倍，用于并排显示）\n",
    "result[0:h,0:w,:] = src                                # 左半区（0:w）填充原图\n",
    "result[0:h,w:2*w,:] = edge_src                         # 右半区（w:2*w）填充边缘融合结果\n",
    "# 文本标注：(10, 30)表示从图像左上角向右10像素、向下30像素的位置开始绘制\n",
    "cv.putText(result, \"original\", (10, 30), cv.FONT_ITALIC, 1.0, (0, 0, 255), 2)   # 在图像左上角(10,30)位置添加红色文字\"original\"\n",
    "cv.putText(result, \"edge_src\", (w+10, 30), cv.FONT_ITALIC, 1.0, (0, 0, 255), 2) # 在图像右侧(w+10,30)位置添加红色文字\"edge_src\"（w变量应表示第一张图像的宽度，确保标注出现在拼接图像的右侧区域）\n",
    "\n",
    "cv.imshow('output',result)                             # 显示结果图像\n",
    "\n",
    "cv.waitKey(0)                                          # 等待按键\n",
    "cv.destroyAllWindows()                                 # 关闭所有窗口"
   ]
  },
  {
   "cell_type": "markdown",
   "id": "8348e373",
   "metadata": {},
   "source": [
    "otsu二值化"
   ]
  },
  {
   "cell_type": "code",
   "execution_count": null,
   "id": "3ca2a03e",
   "metadata": {},
   "outputs": [],
   "source": [
    "import cv2 as cv\n",
    "import numpy as np\n",
    "\n",
    "\n",
    "src = cv.imread(PictureAddress)                            # 读取图像文件\n",
    "cv.namedWindow(\"input\", cv.WINDOW_AUTOSIZE)                # 创建可自动调整大小的窗口\n",
    "cv.imshow(\"input\", src)                                    # 显示图像\n",
    "\n",
    "gray = cv.cvtColor(src, cv.COLOR_BGR2GRAY)                 # BGR格式的源图像src转换为灰度图像\n",
    "# 自动阈值分割 OTSU  （适用于前景和背景对比度不明显的图像），cv.threshold() 是OpenCV中的阈值处理函数\n",
    "ret, binary = cv.threshold(gray, 0, 255, cv.THRESH_BINARY | cv.THRESH_OTSU)   # ret：自动计算的最佳阈值，binary：二值化结果图像（黑白两色），参数0和255表示二值化后的像素取值范围\n",
    "print(\"ret:\", ret)                                         # 输出OTSU算法计算得到的具体阈值数值\n",
    "cv.imshow(\"binary\", binary)                                # 创建名为\"binary\"的窗口显示二值化结果图像\n",
    "\n",
    "\n",
    "# 补充\n",
    "# result：目标图像（BGR格式），f\"OTSU Threshold: {ret}\"：动态生成的文本内容（含阈值数值），(10, 30)：文本左下角起始坐标（x,y），cv.FONT_HERSHEY_SIMPLEX：标准无衬线字体\n",
    "#result = cv.cvtColor(binary, cv.COLOR_GRAY2BGR)\n",
    "#cv.putText(result, f\"OTSU Threshold: {ret}\", (10, 30),\n",
    "#          cv.FONT_HERSHEY_SIMPLEX, 0.7, (0, 0, 255), 2)   # 0.8：字体缩放比例，(0, 0, 255)：红色文本（BGR格式）2：文本线宽（像素）\n",
    "#cv.imshow('output',result)\n",
    "\n",
    "cv.waitKey(0)                                              # 等待键盘输入\n",
    "cv.destroyAllWindows()                                     # 关闭所有窗口"
   ]
  },
  {
   "cell_type": "markdown",
   "id": "6e141a6c",
   "metadata": {},
   "source": [
    "TRANGLE二值化"
   ]
  },
  {
   "cell_type": "code",
   "execution_count": null,
   "id": "41459c1b",
   "metadata": {},
   "outputs": [],
   "source": [
    "import cv2 as cv\n",
    "import numpy as np\n",
    "\n",
    "src = cv.imread(PictureAddress)                           # 读取图像文件\n",
    "cv.namedWindow(\"input\", cv.WINDOW_AUTOSIZE)               # 创建可自动调整大小的窗口\n",
    "cv.imshow(\"input\", src)                                   # 显示图像\n",
    "\n",
    "gray = cv.cvtColor(src, cv.COLOR_BGR2GRAY)                # BGR格式的源图像src转换为灰度图像\n",
    "# TRIANGLE阈值分割，TRIANGLE算法通过寻找灰度直方图的\"三角形顶点\"来确定阈值,特别适用于单峰直方图图像(如文档扫描件)，相比OTSU算法，在背景和前景比例悬殊时表现更好\n",
    "ret, binary = cv.threshold(gray, 0, 255, cv.THRESH_BINARY | cv.THRESH_TRIANGLE)\n",
    "print(\"ret :\", ret)                                       # 打印三角法计算得到的实际阈值数值\n",
    "result = cv.cvtColor(binary, cv.COLOR_GRAY2BGR)           # 将二值图转回BGR格式\n",
    "# 显示自动计算的阈值\n",
    "# result：目标图像（BGR格式），f\"TRIANGLE Threshold: {ret}\"：动态生成的文本内容（含阈值数值），(10, 30)：文本左下角起始坐标（x,y），cv.FONT_HERSHEY_SIMPLEX：标准无衬线字体\n",
    "cv.putText(result, f\"TRIANGLE Threshold: {ret}\", (10, 30),\n",
    "          cv.FONT_HERSHEY_SIMPLEX, 0.7, (0, 0, 255), 2)   # 0.8：字体缩放比例，(0, 0, 255)：红色文本（BGR格式）2：文本线宽（像素）\n",
    "\n",
    "cv.imshow('output',result)                                # 显示结果图像\n",
    "\n",
    "cv.waitKey(0)                                             # 等待按键\n",
    "cv.destroyAllWindows()                                    # 关闭所有窗口"
   ]
  }
 ],
 "metadata": {
  "kernelspec": {
   "display_name": "Python 3",
   "language": "python",
   "name": "python3"
  },
  "language_info": {
   "name": "python",
   "version": "3.13.5"
  }
 },
 "nbformat": 4,
 "nbformat_minor": 5
}
