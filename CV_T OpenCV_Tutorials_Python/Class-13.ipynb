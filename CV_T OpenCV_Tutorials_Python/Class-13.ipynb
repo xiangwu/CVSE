{
 "cells": [
  {
   "cell_type": "markdown",
   "id": "30cb2102",
   "metadata": {},
   "source": [
    "椭圆拟合"
   ]
  },
  {
   "cell_type": "code",
   "execution_count": null,
   "id": "3c096bd6",
   "metadata": {},
   "outputs": [],
   "source": [
    "import cv2 as cv\n",
    "import numpy as np\n",
    "\n",
    " \n",
    "def canny_demo(image):                                                                      # 定义一个名为canny_demo的函数\n",
    "    t = 80                                                                                  # 设置Canny边缘检测的低阈值为80\n",
    "    canny_output = cv.Canny(image, t, t * 2)                                                # 高阈值t * 2为160\n",
    "    cv.imshow(\"canny_output\", canny_output)                                                 # 显示边缘检测结果\n",
    "    #cv.imwrite(\"D:/canny_output.png\", canny_output)                                        # 存储结果\n",
    "    return canny_output                                                                     # 返回边缘检测后的二值图像（白色为边缘，黑色为背景）\n",
    "\n",
    "src = cv.imread(PictureAddress)                                                             # 读取图像文件\n",
    "cv.namedWindow(\"input\", cv.WINDOW_AUTOSIZE)                                                 # 创建可自动调整大小的窗口\n",
    "cv.imshow(\"input\", src)                                                                     # 显示图像\n",
    "edge_binary = canny_demo(src)                                                               # 调用canny_demo函数\n",
    "k = np.ones((3, 3), dtype=np.uint8)                                                         # 图像处理中用作卷积核\n",
    "binary = cv.morphologyEx(edge_binary, cv.MORPH_DILATE, k)                                   # 膨胀操作\n",
    "\n",
    "# 轮廓发现\n",
    "contours, hierarchy = cv.findContours(binary, cv.RETR_EXTERNAL, cv.CHAIN_APPROX_SIMPLE)     # cv.RETR_EXTERNAL提取所有外部轮廓\n",
    "for c in range(len(contours)):\n",
    "    # 椭圆拟合,cv.fitEllipse() 对轮廓点集进行最小二乘椭圆拟合，返回椭圆几何参数\n",
    "    (cx, cy), (a, b), angle = cv.fitEllipse(contours[c])                     # (cx, cy)：椭圆中心坐标（浮点精度）;(a, b)：长短轴长度（注意a不总是长轴）， angle：旋转角度（顺时针方向，单位：度）\n",
    "    # 绘制椭圆\n",
    "    cv.ellipse(src, (np.int32(cx), np.int32(cy)),                            # (np.int32(cx), np.int32(cy)), 椭圆中心坐标（强制转换为整型），(np.int32(a/2), np.int32(b/2)), 半轴长度（需除以2后取整）\n",
    "    (np.int32(a/2), np.int32(b/2)), angle, 0, 360, (255, 0, 255), 2, 8, 0)   # angle,旋转角度， 0, 360,起始和结束角度（0-360表示完整椭圆）\n",
    "# 显示\n",
    "output = src\n",
    "cv.imshow('output',output)\n",
    "\n",
    "cv.waitKey(0)                                                                # 等待按键\n",
    "cv.destroyAllWindows()                                                       # 关闭所有窗口\n",
    "\n"
   ]
  },
  {
   "cell_type": "markdown",
   "id": "69bb95d8",
   "metadata": {},
   "source": [
    "直线拟合"
   ]
  },
  {
   "cell_type": "code",
   "execution_count": null,
   "id": "acb0158a",
   "metadata": {},
   "outputs": [],
   "source": [
    "import cv2 as cv\n",
    "import numpy as np\n",
    "\n",
    " \n",
    "def canny_demo(image):                                                                      # 定义一个名为canny_demo的函数\n",
    "    t = 80                                                                                  # 设置Canny边缘检测的低阈值为80\n",
    "    canny_output = cv.Canny(image, t, t * 2)                                                # 高阈值t * 2为160\n",
    "    cv.imshow(\"canny_output\", canny_output)                                                 # 显示边缘检测结果\n",
    "    #cv.imwrite(\"D:/canny_output.png\", canny_output)                                        # 存储结果\n",
    "    return canny_output                                                                     # 返回边缘检测后的二值图像（白色为边缘，黑色为背景）\n",
    "\n",
    "src = cv.imread(PictureAddress)                                                             # 读取图像文件\n",
    "cv.namedWindow(\"input\", cv.WINDOW_AUTOSIZE)                                                 # 创建可自动调整大小的窗口\n",
    "cv.imshow(\"input\", src)                                                                     # 显示图像\n",
    "edge_binary = canny_demo(src)                                                               # 调用canny_demo函数\n",
    "k = np.ones((3, 3), dtype=np.uint8)                                                         # 图像处理中用作卷积核\n",
    "binary = cv.morphologyEx(edge_binary, cv.MORPH_DILATE, k)                                   # 膨胀操作\n",
    "cv.imshow(\"binary\", binary)                                                                 # 显示二值化图像\n",
    "# 轮廓发现\n",
    "contours, hierarchy = cv.findContours(binary, cv.RETR_EXTERNAL, cv.CHAIN_APPROX_SIMPLE)     # cv.RETR_EXTERNAL提取所有外部轮廓\n",
    "\n",
    "# 直线拟合\n",
    "for c in range(len(contours)):\n",
    "    x, y, w, h = cv.boundingRect(contours[c])                 # 获取轮廓最小外接矩形参数，左上角坐标(x,y)和宽高(w,h) ，坐标系：x向右递增，y向下递增（OpenCV标准）\n",
    "    m = max(w, h)                                             # 取矩形最大边长作为特征尺寸\n",
    "    if m < 30:                                                # 尺寸阈值过滤，30px对应典型图像中5mm物体（600DPI下）\n",
    "        continue                                              # 跳过噪声轮廓\n",
    "# cv.fitLine()：对轮廓点集进行直线拟合，返回 直线方向向量(vx,vy) 和 经过点(x0,y0)，cv.DIST_L1,距离类型（L1范数更抗噪声）， 0,径向距离参数（0表示自动）， 0.01, 0.01 拟合精度参数\n",
    "    vx, vy, x0, y0 = cv.fitLine(contours[c], cv.DIST_L1, 0, 0.01, 0.01)\n",
    "    #计算斜截式方程\n",
    "    k = vy/vx                                                 #（斜率）\n",
    "    b = y0 - k*x0                                             #（截距）\n",
    "    #初始化极值点坐标（用于后续线段端点计算）\n",
    "    maxx = 0\n",
    "    maxy = 0\n",
    "    miny = 10000\n",
    "    minx = 0\n",
    "\n",
    "# 显示\n",
    "cv.imshow(\"contours_analysis\", src)\n",
    "\n",
    "cv.waitKey(0)                                                # 等待按键\n",
    "cv.destroyAllWindows()                                       # 关闭所有窗口"
   ]
  }
 ],
 "metadata": {
  "language_info": {
   "name": "python"
  }
 },
 "nbformat": 4,
 "nbformat_minor": 5
}
