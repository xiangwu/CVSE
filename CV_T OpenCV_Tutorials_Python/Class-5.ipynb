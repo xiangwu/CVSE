{
 "cells": [
  {
   "cell_type": "markdown",
   "id": "cf6f7c66",
   "metadata": {},
   "source": [
    "图像锐化"
   ]
  },
  {
   "cell_type": "code",
   "execution_count": null,
   "id": "330a9ae5",
   "metadata": {},
   "outputs": [],
   "source": [
    "import cv2 as cv\n",
    "import numpy as np\n",
    "\n",
    "\n",
    "src = cv.imread(PictureAddress)                                   # 读取图像文件\n",
    "# cv.namedWindow(\"input\", cv.WINDOW_AUTOSIZE)                     # 创建可自动调整大小的窗口\n",
    "# cv.imshow(\"input\", src)                                         # 显示图像\n",
    "\n",
    "# 卷积核直接锐化法（3x3卷积核（Kernel））\n",
    "#sharpen_op = np.array([[-1, -1, -1], [-1, 9, -1], [-1, -1, -1]], dtype=np.float32)  # 总和为1 （9 + 8*(-1) = 1）保证亮度不变\n",
    "sharpen_op = np.array([[0, -1, 0], [-1, 5, -1], [0, -1, 0]], dtype=np.float32) # 总和为1 （5 + 4*(-1) = 1）保证亮度不变\n",
    "# cv.filter2D()是OpenCV中用于图像卷积运算的核心函数，通过自定义核矩阵实现多种图像处理效果\n",
    "sharpen_image = cv.filter2D(src, cv.CV_32F, sharpen_op)           # 生成含负值的浮点结果\n",
    "# cv.convertScaleAbs()是用于处理卷积结果的关键后处理步骤，其作用是将锐化后的浮点型数据转换为可视化的8位无符号整型图像（0-255范围）\n",
    "sharpen_image = cv.convertScaleAbs(sharpen_image)\n",
    "\n",
    "cv.imshow('input',src)                                            # 显示原图\n",
    "cv.imshow('output',sharpen_image)                                 # 显示锐化后的图像\n",
    "\n",
    "cv.waitKey(0)                                                     # 等待按键\n",
    "cv.destroyAllWindows()                                            # 关闭所有窗口 "
   ]
  },
  {
   "cell_type": "markdown",
   "id": "7459b45d",
   "metadata": {},
   "source": [
    "USM锐化增强算法"
   ]
  },
  {
   "cell_type": "code",
   "execution_count": null,
   "id": "ebf73f00",
   "metadata": {},
   "outputs": [],
   "source": [
    "import cv2 as cv\n",
    "import numpy as np\n",
    "\n",
    "\n",
    "src = cv.imread(PictureAddress)                                  # 读取图像文件\n",
    "# 标准差sigma= 5、15、25\n",
    "blur_img = cv.GaussianBlur(src, (0, 0), 5)                       # (0, 0)：内核大小（自动根据sigma计算）\n",
    "# 非锐化掩模（通过原图(src)与高斯模糊图(blur_img)的加权差实现边缘增强）\n",
    "usm = cv.addWeighted(src, 1.5, blur_img, -0.5, 0)  # 1.5和-0.5的权重组合是经典的非锐化掩模参数，最终gamma值设为0保持亮度中性\n",
    "\n",
    "cv.imshow('input',src)                                           # 显示原图\n",
    "cv.imshow('gussian',blur_img)                                    # 显示高斯模糊后的图像\n",
    "cv.imshow('output',usm)                                          # 显示锐化增强后的图像\n",
    "\n",
    "\n",
    "cv.waitKey(0)                                                    # 等待按键\n",
    "cv.destroyAllWindows()                                           # 关闭所有窗口\n"
   ]
  },
  {
   "cell_type": "markdown",
   "id": "e1ef9c6c",
   "metadata": {},
   "source": [
    "傅里叶变换"
   ]
  },
  {
   "cell_type": "code",
   "execution_count": null,
   "id": "15e3034c",
   "metadata": {},
   "outputs": [],
   "source": [
    "import cv2 as cv\n",
    "import numpy as np\n",
    "import matplotlib.pyplot as plt\n",
    "from matplotlib.mlab import magnitude_spectrum\n",
    "\n",
    "\n",
    "img = cv.imread(PictureAddress)                                    # -1参数表示按原样加载图像（包括Alpha通道）\n",
    "img_gray = cv.cvtColor(img, cv.COLOR_BGR2GRAY)                     # BGR转化为灰度图像\n",
    "# 对灰度图像的离散傅里叶变换（DFT）\n",
    "# np.float32(img_gray)将灰度图像转换为32位浮点格式，这是OpenCV傅里叶变换的必要输入数据类型\n",
    "dft = cv.dft(np.float32(img_gray),flags = cv.DFT_COMPLEX_OUTPUT)   # 单通道灰度图作为输入时，输出复数结果需显式指定DFT_COMPLEX_OUTPUT标志\n",
    "# 执行频域中心化操作,图像频域处理\n",
    "dftShift = np.fft.fftshift(dft)                                    # dft必须是通过cv2.dft()得到的复数矩阵（双通道数组）\n",
    "# 执行频域数据的逆中心化操作\n",
    "ishift = np.fft.ifftshift(dftShift)\n",
    "# cv2.idft()执行逆傅里叶变换，将经过np.fft.fftshift()中心化处理的频域数据ishift还原为空间域图像\n",
    "iImage = cv.idft(ishift)\n",
    "# 计算复数矩阵幅度,应用于频域图像处理后的结果转换，与cv2.dft()和np.fft.fftshift()配合实现完整的频域处理流程\n",
    "iImg = cv.magnitude(iImage[:,:,0],iImage[:,:,1])  # iImage[:,:,0]为实部（Re），iImage[:,:,1]为虚部（Im）\n",
    "# 使用plt.subplot(121)和plt.subplot(122)创建1行2列的并排子图布局，左侧子图位置编号121，右侧122\n",
    "plt.subplot(121),plt.imshow(img,cmap = \"gray\"),plt.title(\"original\"),plt.axis('off') # plt.axis('off')隐藏坐标轴，plt.title()为每幅图添加说明性标题\n",
    "plt.subplot(122),plt.imshow(iImg,cmap = \"gray\"),plt.title(\"inverse\"),plt.axis('off')\n",
    "plt.show()\n",
    " \n",
    "cv.imshow(\"inverse\",iImg)                                          # 显示iImg\n",
    "cv.waitKey(0)                                                      # 等待按键\n",
    "cv.destroyAllWindows()                                             # 关闭所有窗口"
   ]
  },
  {
   "cell_type": "markdown",
   "id": "07274407",
   "metadata": {},
   "source": [
    "理想低通滤波"
   ]
  },
  {
   "cell_type": "code",
   "execution_count": null,
   "id": "ae6429ca",
   "metadata": {},
   "outputs": [],
   "source": [
    "import cv2\n",
    "import numpy as np\n",
    "import matplotlib.pyplot as plt\n",
    "\n",
    "# 读取图像\n",
    "img = cv2.imread(PictureAddress, 0)                               # 0 表示读取为灰度图像\n",
    "\n",
    "# 对图像进行二维快速傅里叶变换（执行FFT及中心化）\n",
    "f= np.fft.fft2(img)\n",
    "fshift = np.fft.fftshift(f)                                       # 执行频域中心化操作\n",
    "\n",
    "# 设置低通滤波器的参数\n",
    "D0 = 50                                                           # 截止频率，可以根据需要调整\n",
    "rows, cols = img.shape                                            # 获取输入图像的尺寸\n",
    "mask = np.zeros((rows, cols), np.uint8)                           # 注意这里我们不再需要第三个维度（颜色通道）\n",
    "crow, ccol = rows // 2, cols // 2                                 # 计算图像中心点坐标\n",
    "for i in range(rows):                                             # 通过双重循环遍历图像每个像素位置\n",
    "    for j in range(cols):\n",
    "        # 计算当前点到中心的距离\n",
    "        d = np.sqrt((i - crow) ** 2 + (j - ccol) ** 2)    # d = √[(i-crow)² + (j-ccol)²]\n",
    "        # 应用低通滤波器 （圆形掩模）\n",
    "        if d <= D0:                                               # 截止条件\n",
    "            mask[i, j] = 1\n",
    "\n",
    "# 应用滤波器\n",
    "fshift_filtered = fshift * mask                                   # 实现频域成分的选择性保留/滤除\n",
    "# 逆傅里叶变换\n",
    "f_ishift = np.fft.ifftshift(fshift_filtered)                      # 逆中心移位 (ifftshift)\n",
    "img_back = np.fft.ifft2(f_ishift)                                 # 逆傅里叶变换\n",
    "img_back = np.abs(img_back)                                       # ‌取模运算，提取复数的幅度部分，获得最终可显示的真实图像数据\n",
    "\n",
    "# 由于结果可能包含复数，我们只取幅度部分（归一化与类型转换）\n",
    "# 数据归一化‌：将图像像素值线性映射到0-255范围，公式：(当前值 - 最小值)/(最大值 - 最小值)*255，确保所有像素值分布在标准灰度范围内\n",
    "img_back = (img_back - np.min(img_back)) / (np.max(img_back) - np.min(img_back)) * 255\n",
    "img_back = np.uint8(img_back)                                     # 将浮点型数据转换为8位无符号整型(np.uint8)\n",
    "   \n",
    "# 显示原图像和滤波后的图像\n",
    "# 使用plt.subplot(121)和plt.subplot(122)创建1行2列的并排子图布局，左侧子图位置编号121，右侧122\n",
    "plt.subplot(121), plt.imshow(img, cmap='gray'), plt.title('Original Image')\n",
    "plt.xticks([]), plt.yticks([])                                    # 隐藏坐标轴刻度\n",
    "plt.subplot(122), plt.imshow(img_back, cmap='gray'), plt.title('Lowpass Filtered Image')\n",
    "plt.xticks([]), plt.yticks([])                                    # 隐藏坐标轴刻度\n",
    "plt.show()"
   ]
  }
 ],
 "metadata": {
  "kernelspec": {
   "display_name": "Python 3",
   "language": "python",
   "name": "python3"
  },
  "language_info": {
   "name": "python",
   "version": "3.13.5"
  }
 },
 "nbformat": 4,
 "nbformat_minor": 5
}
