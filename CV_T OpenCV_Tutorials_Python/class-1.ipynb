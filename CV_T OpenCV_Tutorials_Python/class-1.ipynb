{
 "cells": [
  {
   "cell_type": "code",
   "execution_count": null,
   "metadata": {},
   "outputs": [],
   "source": [
    "import cv2 as cv\n",
    "import numpy as np"
   ]
  },
  {
   "cell_type": "markdown",
   "metadata": {},
   "source": [
    "# 图像读取"
   ]
  },
  {
   "cell_type": "code",
   "execution_count": null,
   "metadata": {},
   "outputs": [],
   "source": [
    "src = cv.imread('./images/nezha.png')                   # 读取图像文件，例：\"./images/nezha.png\"\n",
    "cv.namedWindow(\"input\", cv.WINDOW_AUTOSIZE)             # 创建可自动调整大小的窗口，cv.namedWindow(\"名称\", \" 模式\")\n",
    "cv.imshow(\"input\", src)                                 # 显示图像\n",
    "\n",
    "# 生成512x512像素的白色图像模板，使用uint8数据类型确保像素值范围0-255，3通道结构对应BGR色彩空间\n",
    "m5 = np.ones(shape=[512,512,3], dtype=np.uint8)\n",
    "m5[:,:,0] = 255                                         # 所有行(:)和列(:)，第0通道（BGR色彩空间中的蓝色通道）设为255\n",
    "cv.imshow(\"m5\", m5)                                     # 显示纯蓝色图像窗口\n",
    "\n",
    "cv.waitKey(0)                                          # 等待按键，\"0\" 无止境等待下一个按键\n",
    "cv.destroyAllWindows()                                 # 关闭所有窗口\n"
   ]
  },
  {
   "cell_type": "markdown",
   "metadata": {},
   "source": [
    "# 像素读写"
   ]
  },
  {
   "cell_type": "code",
   "execution_count": null,
   "metadata": {},
   "outputs": [],
   "source": [
    "src = cv.imread(PictureAddress)                       # 读取图像，例：\"D:/images/nezha.png\"\n",
    "cv.namedWindow(\"input\", cv.WINDOW_AUTOSIZE)           # 创建可自动调整大小的窗口\n",
    "cv.imshow(\"input\", src)                               # 显示图像\n",
    "h, w, ch = src.shape\n",
    "print(\"h: %s , w: %s , ch: %s \"%(h, w, ch))           # 打印高度(h)、宽度(w)和通道数(ch)的变量值\n",
    "\n",
    "# 遍历图像中的所有像素并获取它们的BGR值\n",
    "for row in range(h):                                  # 外层循环，遍历图像的高度方向（垂直方向）\n",
    "   for col in range(w):                               # 内层循环，遍历图像的宽度方向（水平方向）\n",
    "     b, g, r = src[row, col]                          # 获取当前像素点的BGR三通道值，src：图像矩阵，row, col：当前像素坐标\n",
    "     print(b,g,r)                                     # 打印当前像素的BGR分量值\n",
    "cv.imshow(\"output\", src)                     # 在\"output\"的窗口中显示图像\n",
    "\n",
    "# 打印高度(h)、宽度(w)和通道数(ch)的变量值的补充\n",
    "#h=src.shape[0]                                       # 返回图像矩阵的第一维度大小，获取图像高度（行数）\n",
    "#w=src.shape[1]                                       # 返回图像矩阵的第二维度大小，获取图像宽度（列数）\n",
    "#ch=src.shape[2]                                      # 返回图像矩阵的第三维度大小（仅彩色图像存在），获取图像通道数\n",
    "#print(\"h: %s , w: %s , ch: %s \"%(h, w, ch))\n",
    "\n",
    "cv.waitKey(0)                                         # 等待按键，\"0\" 无止境等待下一个按键\n",
    "cv.destroyAllWindows()                                # 关闭所有窗口"
   ]
  },
  {
   "cell_type": "markdown",
   "metadata": {},
   "source": [
    "# 摄像头显示"
   ]
  },
  {
   "cell_type": "code",
   "execution_count": null,
   "metadata": {},
   "outputs": [],
   "source": [
    "\n",
    "# 打开默认摄像头（通常是0，如果有多个摄像头，则可能是1, 2, ...）\n",
    "cap = cv2.VideoCapture(0)\n",
    "# 检查摄像头是否成功打开\n",
    "if not cap.isOpened():                                 # cap.isOpened() 检查视频捕获对象初始化状态\n",
    "    print(\"Error opening video stream or file\")\n",
    "    exit()                                             # 终止程序\n",
    "while True:                                            # 无限循环（while True），用于持续读取视频流或摄像头帧\n",
    "    # 读取一帧\n",
    "    ret, frame = cap.read()                            # ret：布尔值，表示帧是否成功读取，frame: 实际读取的图像帧数据\n",
    "    if not ret:\n",
    "        print(\"Can't receive frame (stream end?). Exiting ...\")\n",
    "        break\n",
    "    # 显示结果帧\n",
    "    cv2.imshow('Camera', frame)\n",
    "    # 等待用户按键，如果按下'q'时执行break退出循环\n",
    "    # cv2.waitKey(1)：这个函数等待用户按键，最多等待1毫秒。如果用户按下了某个键，它返回该键的ASCII值；如果没有按键，则返回 - 1\n",
    "    # & 0xFF的按位与操作只取cv2.waitKey(1)返回值最后八位，因为有些系统cv2.waitKey(1)的返回值不止八位\n",
    "    # cv2.waitKey(1) & 0xFF，与位运算，当按‘q’时返回ASCII=113\n",
    "    if cv2.waitKey(1) & 0xFF == ord('q'):              # ord('q') 获取字符'q'的ASCII码，即113\n",
    "        break\n",
    "\n",
    "# 释放摄像头并关闭所有OpenCV窗口\n",
    "cap.release()                                          # 调用release()释放资源\n",
    "cv2.destroyAllWindows()                                # 关闭所有窗口\n"
   ]
  },
  {
   "cell_type": "markdown",
   "metadata": {},
   "source": [
    "# 视频读取"
   ]
  },
  {
   "cell_type": "code",
   "execution_count": null,
   "metadata": {},
   "outputs": [],
   "source": [
    "capture = cv.VideoCapture(VideoAddress)                 # 创建视频捕获对象，视频地址例：\"D:/images/rain.mp4\"\n",
    "#capture = cv.VideoCapture(0) #打开摄像头\n",
    "height = capture.get(cv.CAP_PROP_FRAME_HEIGHT)          # 视频帧高度(像素)\n",
    "width = capture.get(cv.CAP_PROP_FRAME_WIDTH)            # 视频帧宽度(像素)\n",
    "count = capture.get(cv.CAP_PROP_FRAME_COUNT)            # 视频总帧数\n",
    "fps = capture.get(cv.CAP_PROP_FPS)                      # 视频帧率(帧/秒)\n",
    "print(height, width, count, fps)\n",
    "\n",
    "#输出路径：\"D:/images/test.mp4\"（DivX编码的MP4文件），编码格式：cv.VideoWriter_fourcc('D','I','V','X')指定DivX编码器，帧率：30 FPS，分辨率：640×480像素，True表示保存彩色视频\n",
    "#out = cv.VideoWriter(\"D:/images/test.mp4\", cv.VideoWriter_fourcc('D', 'I', 'V', 'X'), 30,(640, 480), True)\n",
    "out = cv.VideoWriter(\"D:/images/test.mp4\", cv.VideoWriter_fourcc(*'mp4v'), 30,(640, 480), True)  #编码格式：MP4V编码器（兼容性较好的MPEG-4编码）\n",
    "\n",
    "while True:                                             # 无限循环（while True），用于持续读取视频流或摄像头帧\n",
    "    ret, frame = capture.read()                         # ret：布尔值，表示帧是否成功读取，frame: 实际读取的图像帧数据\n",
    "    if ret is True:                                     # 检查帧是否成功读取的布尔条件\n",
    "        cv.imshow(\"video-input\", frame)        # 在\"video-input\"的窗口中显示当前帧图像\n",
    "        out.write(frame)                                # 将当前帧写入视频输出文件（需提前创建VideoWriter对象）\n",
    "        c = cv.waitKey(50) & 0xFF\n",
    "        if c == 27:                                     # ESC键的ASCII码值\n",
    "            break                                       # 退出无限循环（两种情况触发：按ESC键或读取帧失败）\n",
    "    else:                                               # 当ret为False时（视频结束或设备断开）退出循环\n",
    "        break\n",
    "\n",
    "capture.release()                                       # 调用release()释放资源\n",
    "out.release()                                           # 释放视频写入器资源"
   ]
  },
  {
   "cell_type": "markdown",
   "metadata": {},
   "source": []
  }
 ],
 "metadata": {
  "kernelspec": {
   "display_name": "OPENCV",
   "language": "python",
   "name": "python3"
  },
  "language_info": {
   "codemirror_mode": {
    "name": "ipython",
    "version": 3
   },
   "file_extension": ".py",
   "mimetype": "text/x-python",
   "name": "python",
   "nbconvert_exporter": "python",
   "pygments_lexer": "ipython3",
   "version": "3.13.8"
  }
 },
 "nbformat": 4,
 "nbformat_minor": 2
}
