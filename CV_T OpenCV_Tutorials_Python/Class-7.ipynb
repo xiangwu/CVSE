{
 "cells": [
  {
   "cell_type": "markdown",
   "id": "3450ad4e",
   "metadata": {},
   "source": [
    "图像模板匹配"
   ]
  },
  {
   "cell_type": "code",
   "execution_count": null,
   "id": "4699f86f",
   "metadata": {},
   "outputs": [],
   "source": [
    "import cv2 as cv\n",
    "import numpy as np\n",
    "\n",
    "\n",
    "def template_demo():                                         # 定义一个模板匹配函数\n",
    "    src = cv.imread(Picture1Address)                         # 读取源图像（待搜索的大图）\n",
    "    tpl = cv.imread(Picture2Address)                         # 读取模板图像（待匹配的小图）\n",
    "    cv.imshow(\"input\", src)                                  # 显示源图像\n",
    "    cv.imshow(\"tpl\", tpl)                                    # 显示模板图像窗口\n",
    "    th, tw = tpl.shape[:2]                                   # 提取模板的高度(th)和宽度(tw)\n",
    "    # 执行模板匹配\n",
    "    result = cv.matchTemplate(src, tpl, cv.TM_CCORR_NORMED)  # 返回值result矩阵中每个元素表示对应位置的匹配置信度（0~1，越接近1匹配度越高）\n",
    "    #cv.imshow(\"result\", result)                             # 创建一个窗口显示归一化后的匹配得分矩阵，亮度越高表示匹配概率越大\n",
    "    #cv.imwrite(\"D:/039_003.png\", np.uint8(result * 255))    # 将浮点型匹配结果（0~1范围）转换为8位灰度图（0~255），并通过cv.imwrite保存到指定路径\n",
    "    # 设置匹配阈值并定位结果\n",
    "    t = 0.955                                                # 相似度阈值（可调整，范围0-1）\n",
    "    loc = np.where(result > t)                               # 获取匹配度高于阈值的位置坐标，返回值为元组(y_array, x_array)，需反转顺序为(x,y)\n",
    "    # 绘制匹配区域矩形框\n",
    "    for pt in zip(*loc[::-1]):                               # 遍历所有匹配位置，loc[::-1]：将(y,x)坐标反转为(x,y)格式，zip(*...)：解包并重组为(x,y)坐标点序列\n",
    "        cv.rectangle(src, pt, (pt[0] + tw, pt[1] + th), (255, 0, 0), 1, 8, 0) # 在源图像上绘制蓝色矩形框标记匹配区域（0代表x轴，1代表y轴）\n",
    "    cv.imshow(\"llk-demo\", src)                               # 显示带有匹配标记的源图像窗口\n",
    "    #cv.imwrite(\"D:/039_003.png\", np.uint8(result*255))      # 存储图像\n",
    "\n",
    "template_demo()                                              #调用定义的模板匹配函数\n",
    "\n",
    "cv.waitKey(0)                                                # 等待按键\n",
    "cv.destroyAllWindows()                                       # 关闭所有窗口"
   ]
  },
  {
   "cell_type": "markdown",
   "id": "a80e4754",
   "metadata": {},
   "source": [
    "图像模板匹配--单个"
   ]
  },
  {
   "cell_type": "code",
   "execution_count": null,
   "id": "5c51ed10",
   "metadata": {},
   "outputs": [],
   "source": [
    "import cv2 as cv\n",
    "import numpy as np\n",
    "\n",
    "\n",
    "src=cv.imread(Picture1Address)                              # 读取源图像（待搜索的大图）\n",
    "tpl=cv.imread(Picture2Address)                              # 读取模板图像（待匹配的小图）\n",
    "cv.imshow(\"input\", src)                                     # 显示源图像\n",
    "cv.imshow(\"tpl\", tpl)                                       # 显示模板图像窗口\n",
    "\n",
    "\n",
    "th, tw = tpl.shape[:2]                                      # 提取模板的高度(th)和宽度(tw)\n",
    "#cv.matchTemplate()是OpenCV中用于实现模板匹配的核心函数，其功能是通过滑动窗口算法在源图像中寻找与模板图像最相似的区域\n",
    "result = cv.matchTemplate(src, tpl, cv.TM_SQDIFF_NORMED)    # 使用归一化平方差匹配算法（TM_SQDIFF_NORMED）在源图像src中搜索模板tpl，返回匹配结果矩阵，值越小匹配度越高\n",
    "min_val, max_val, min_loc, max_loc = cv.minMaxLoc(result)   # 从结果矩阵中提取最小值/最大值及其坐标位置\n",
    "top_left = min_loc                                          # 将最小值坐标作为最佳匹配区域的左上角点（x,y）\n",
    "bottom_right = (top_left[0] + tw, top_left[1] + th)         # 计算匹配区域右下角坐标：x轴加模板宽度，y轴加模板高度（0代表x轴，1代表y轴）\n",
    "cv.rectangle(src, top_left, bottom_right, (0,255,0), 2)     # 在源图像上绘制绿色矩形框标记匹配区域，线宽为2像素\n",
    "cv.imshow(\"match\", src)                                     # 显示带有匹配标记的源图像窗口\n",
    "      \n",
    "cv.waitKey(0)                                               # 等待按键\n",
    "cv.destroyAllWindows()                                      # 关闭所有窗口"
   ]
  },
  {
   "cell_type": "markdown",
   "id": "f5d45519",
   "metadata": {},
   "source": [
    "图像模板匹配--多个"
   ]
  },
  {
   "cell_type": "code",
   "execution_count": null,
   "id": "ea356808",
   "metadata": {},
   "outputs": [],
   "source": [
    "import cv2 as cv\n",
    "import numpy as np\n",
    "\n",
    "\n",
    "src=cv.imread(Picture1Address)                              # 读取源图像（待搜索的大图）\n",
    "tpl=cv.imread(Picture2Address)                              # 读取模板图像（待匹配的小图）\n",
    "cv.imshow(\"input\", src)                                     # 显示源图像\n",
    "cv.imshow(\"tpl\", tpl)                                       # 显示模板图像窗口\n",
    " \n",
    "h,w=tpl.shape[:2]                                           # 提取模板的高度(th)和宽度(tw)\n",
    "# 使用归一化平方差匹配算法（TM_SQDIFF_NORMED） 在源图像src中搜索模板tpl，返回匹配结果矩阵，值越小匹配度越高\n",
    "result = cv.matchTemplate(src, tpl, cv.TM_CCOEFF_NORMED)\n",
    "threshold = 0.6                                             # 相似度阈值（可调整，范围0-1）\n",
    "# 多目标检测需结合阈值筛选：locations = np.where(result >=threshold)\n",
    "loc = np.where(result >=threshold)                          # 获取匹配度大于等于阈值的位置坐标，返回值为元组(y_array, x_array)，需反转顺序为(x,y)\n",
    "# 生成所有匹配位置的左上角坐标点迭代器\n",
    "for pt in zip(*loc[::-1]):                                  # loc[::-1]:将坐标元组从(y,x)顺序反转为(x,y)顺序;*操作符：解包元组为独立参数;zip()：将x坐标数组和y坐标数组组合成(x,y)坐标点序列\n",
    "    bottom_right = (pt[0] + w, pt[1] + h)                   # 计算匹配区域右下角坐标：x轴加模板宽度，y轴加模板高度（0代表x轴，1代表y轴）\n",
    "    cv.rectangle(src, pt, bottom_right, (0, 255, 0), 2)     # 在源图像上绘制绿色矩形框标记匹配区域，线宽为2像素\n",
    "    cv.imshow(\"result\", src)\n",
    "\n",
    "cv.waitKey(0)                                               # 等待按键\n",
    "cv.destroyAllWindows()                                      # 关闭所有窗口"
   ]
  }
 ],
 "metadata": {
  "kernelspec": {
   "display_name": "Python 3",
   "language": "python",
   "name": "python3"
  },
  "language_info": {
   "name": "python",
   "version": "3.13.5"
  }
 },
 "nbformat": 4,
 "nbformat_minor": 5
}
