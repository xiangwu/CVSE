{
 "cells": [
  {
   "cell_type": "markdown",
   "id": "9bd9c197",
   "metadata": {},
   "source": [
    "开运算"
   ]
  },
  {
   "cell_type": "code",
   "execution_count": null,
   "id": "feac5be3",
   "metadata": {},
   "outputs": [],
   "source": [
    "import cv2 as cv\n",
    "import numpy as np\n",
    "\n",
    "\n",
    "img = cv.imread(PictureAddress)                                # 读取图像文件\n",
    "\n",
    "kernel = np.ones((5,5),np.uint8)                               # 结构元素（如5×5全1矩阵），决定操作中邻域像素的影响范围\n",
    "# 开运算原理：先腐蚀去除微小干扰，再膨胀恢复主要物体形状，能有效保持物体主要特征同时消除噪声\n",
    "opening = cv.morphologyEx(img, cv.MORPH_OPEN, kernel)          # 指定开运算类型\n",
    "\n",
    "# 显示\n",
    "cv.imshow('output',opening)\n",
    "\n",
    "cv.waitKey(0)                                                  # 等待按键\n",
    "cv.destroyAllWindows()                                         # 关闭所有窗口"
   ]
  },
  {
   "cell_type": "markdown",
   "id": "69172815",
   "metadata": {},
   "source": [
    "闭运算"
   ]
  },
  {
   "cell_type": "code",
   "execution_count": null,
   "id": "cbe7973e",
   "metadata": {},
   "outputs": [],
   "source": [
    "import cv2 as cv\n",
    "import numpy as np\n",
    "\n",
    "img = cv.imread(PictureAddress)                               # 读取图像文件\n",
    "# 创建5x5矩形结构元素 \n",
    "kernel = np.ones((5,5),np.uint8)                              # 与cv.getStructuringElement(cv.MORPH_RECT, (5,5))生成的核效果相同\n",
    "#闭运算原理：先膨胀填补孔洞/连接断裂，再腐蚀恢复物体大致形状，与开运算形成对偶操作，常用于后处理阶段改善分割结果\n",
    "closing = cv.morphologyEx(img, cv.MORPH_CLOSE, kernel)        # 执行闭运算\n",
    "# 显示\n",
    "cv.imshow('output',closing )\n",
    "\n",
    "cv.waitKey(0)                                                 # 等待按键\n",
    "cv.destroyAllWindows()                                        # 关闭所有窗口 "
   ]
  },
  {
   "cell_type": "markdown",
   "id": "6bb709be",
   "metadata": {},
   "source": [
    "膨胀操作"
   ]
  },
  {
   "cell_type": "code",
   "execution_count": null,
   "id": "5dc118d4",
   "metadata": {},
   "outputs": [],
   "source": [
    "import cv2 as cv\n",
    "import numpy as np\n",
    "\n",
    "\n",
    "img = cv.imread(PictureAddress)                               # 读取图像文件\n",
    "kernel = np.ones((3,3),np.uint8)                              # 使用NumPy创建了一个3×3的全1矩阵\n",
    "# cv2.dilate()函数对输入图像进行膨胀操作\n",
    "dige_dilate = cv.dilate(img,kernel,iterations = 1)            # img：输入图像（通常为二值图像） iterations=1：指定膨胀操作执行的次数\n",
    "\n",
    "# 显示\n",
    "cv.imshow('output',dige_dilate)\n",
    "\n",
    "cv.waitKey(0)                                                 # 等待按键\n",
    "cv.destroyAllWindows()                                        # 关闭所有窗口\n"
   ]
  },
  {
   "cell_type": "markdown",
   "id": "13566755",
   "metadata": {},
   "source": [
    "腐蚀操作"
   ]
  },
  {
   "cell_type": "code",
   "execution_count": null,
   "id": "d3dae419",
   "metadata": {},
   "outputs": [],
   "source": [
    "import cv2 as cv\n",
    "\n",
    "\n",
    "src = cv.imread(PictureAddress)                                                             # 读取图像文件\n",
    "gray = cv.cvtColor(src,cv.COLOR_BGR2GRAY)                                                   # 转化为灰度图\n",
    "ret, binary = cv.threshold(gray, 0, 255, cv.THRESH_BINARY | cv.THRESH_OTSU)                 # 二值化\n",
    "# kernel用于定义形态学操作（如腐蚀、膨胀等）中像素邻域的几何形状和大小\n",
    "kernel = cv.getStructuringElement(cv.MORPH_RECT, (5, 5))                                    # cv.MORPH_RECT：指定结构元素形状为矩形\n",
    "# cv.erode()函数对二值图像进行腐蚀操作，属于形态学图像处理的基本操作\n",
    "# 腐蚀操作原理：将kernel锚点滑过图像每个像素，只有当kernel覆盖区域全为前景时，锚点位置才保留前景值，否则置为背景值。\n",
    "dst = cv.erode(binary, kernel)                                                              # binary：输入的二值图像（通常为黑白图像，前景为白色255，背景为黑色0\n",
    "# 显示\n",
    "cv.imshow('output',dst)\n",
    " \n",
    "cv.waitKey(0)                                                                               # 等待按键\n",
    "cv.destroyAllWindows()                                                                      # 关闭所有窗口"
   ]
  },
  {
   "cell_type": "markdown",
   "id": "fe92102f",
   "metadata": {},
   "source": [
    "顶帽操作"
   ]
  },
  {
   "cell_type": "code",
   "execution_count": null,
   "id": "a2022da7",
   "metadata": {},
   "outputs": [],
   "source": [
    "import cv2 as cv\n",
    "import numpy as np\n",
    "\n",
    "\n",
    "img = cv.imread(PictureAddress)                                                            # 读取图像文件\n",
    "kernel = np.ones((7,7),np.uint8)                                                           # 创建7x7矩形结构元素\n",
    "# 顶帽运算用于提取图像中比结构元素小的明亮区域或突出局部高对比度特征\n",
    "tophat = cv.morphologyEx(img, cv.MORPH_TOPHAT, kernel)                                     # 执行顶帽运算（原始图像 - 开运算结果）\n",
    "\n",
    "# 显示\n",
    "cv.imshow('output',tophat)\n",
    "\n",
    "cv.waitKey(0)                                                                              # 等待按键\n",
    "cv.destroyAllWindows()                                                                     # 关闭所有窗口"
   ]
  },
  {
   "cell_type": "markdown",
   "id": "fb902a42",
   "metadata": {},
   "source": [
    "黑帽操作"
   ]
  },
  {
   "cell_type": "code",
   "execution_count": null,
   "id": "8ba52c11",
   "metadata": {},
   "outputs": [],
   "source": [
    "import cv2 as cv\n",
    "import numpy as np\n",
    "\n",
    "\n",
    "img = cv.imread(PictureAddress)                                                            # 读取图像文件\n",
    "kernel = np.ones((7,7),np.uint8)                                                           # 创建7x7矩形结构元素\n",
    "#黑帽操作是图像形态学处理中与顶帽操作相对应的技术，主要用于提取比结构元素小的暗区域或突出局部低对比度特征\n",
    "blackhat  = cv.morphologyEx(img,cv.MORPH_BLACKHAT, kernel)                                 # 执行黑帽操作（闭运算结果-原始图像）\n",
    "# 显示 \n",
    "cv.imshow('output',blackhat)\n",
    "\n",
    "cv.waitKey(0)                                                                              # 等待按键\n",
    "cv.destroyAllWindows()                                                                     # 关闭所有窗口"
   ]
  },
  {
   "cell_type": "markdown",
   "id": "edb49bc6",
   "metadata": {},
   "source": [
    "轮廓梯度分析"
   ]
  },
  {
   "cell_type": "code",
   "execution_count": null,
   "id": "cd6338f4",
   "metadata": {},
   "outputs": [],
   "source": [
    "import cv2 as cv\n",
    "\n",
    "src = cv.imread(PictureAddress)                                                             # 读取图像文件\n",
    "cv.namedWindow(\"input\", cv.WINDOW_AUTOSIZE)                                                 # 创建可自动调整大小的窗口\n",
    "cv.imshow(\"input\", src)                                                                     # 显示图像\n",
    "\n",
    "# 形态学梯度 - 基本梯度\n",
    "# cv.MORPH_RECT：指定矩形结构元素；(3,3)：核的尺寸（宽×高）；(-1,-1)：锚点位置（默认中心点）\n",
    "se = cv.getStructuringElement(cv.MORPH_RECT, (3, 3), (-1, -1))\n",
    "basic = cv.morphologyEx(src, cv.MORPH_GRADIENT, se)                                         # cv.MORPH_GRADIENT：指定形态学梯度操作类型\n",
    "#cv.imshow(\"basic gradient\", basic)\n",
    "gray = cv.cvtColor(basic, cv.COLOR_BGR2GRAY)                                                # 转化为灰度图像\n",
    "# 应用阈值处理以获取二值图像\n",
    "ret, binary = cv.threshold(gray, 0, 255, cv.THRESH_BINARY | cv.THRESH_OTSU)\n",
    "#cv.imshow(\"binary\", binary)\n",
    "\n",
    "# 生成1×5像素的垂直矩形核（适合检测垂直特征；锚点位于中心位置(-1,-1)\n",
    "se = cv.getStructuringElement(cv.MORPH_RECT, (1, 5), (-1, -1))\n",
    "# 形态学膨胀操作‌：使用垂直核增强二值图像中的垂直结构；连接断裂的边缘并加粗垂直特征\n",
    "binary = cv.morphologyEx(binary, cv.MORPH_DILATE, se)\n",
    "# 轮廓检测‌  ：cv.CHAIN_APPROX_SIMPLE：轮廓近似方法（压缩水平/垂直/对角线方向的冗余点）\n",
    "contours, hierarchy = cv.findContours(binary, cv.RETR_EXTERNAL, cv.CHAIN_APPROX_SIMPLE)\n",
    "for c in range(len(contours)):\n",
    "# boundingRect()函数计算轮廓的最小外接矩形  x,y：矩形左上角坐标（像素单位） w,h：矩形的宽度和高度（像素单位）\n",
    "    x, y, w, h = cv.boundingRect(contours[c])                                               # contours[c]：从findContours()获取的轮廓集合中的第c个轮廓\n",
    "    area = cv.contourArea(contours[c])                                                      # 计算轮廓的像素面积（返回值：浮点型面积值）\n",
    "    if area < 200:                                                                          # 面积筛选‌：过滤掉面积小于200像素的轮廓（去除小噪点）\n",
    "        continue\n",
    "    if h > (3*w) or h < 20:                                                                 # 比例筛选‌：排除高度大于3倍宽度或高度小于20像素的轮廓（过滤线状干扰）\n",
    "        continue\n",
    "    cv.rectangle(src, (x, y), (x+w, y+h), (0, 0, 255), 1, 8, 0)                             # 矩形标注‌：对符合条件的轮廓用红色矩形标记（边框厚度1px）\n",
    "# 显示\n",
    "cv.imshow('output',src)\n",
    "\n",
    "cv.waitKey(0)                                                                               # 等待按键\n",
    "cv.destroyAllWindows()                                                                      # 关闭所有窗口"
   ]
  }
 ],
 "metadata": {
  "kernelspec": {
   "display_name": "Python 3",
   "language": "python",
   "name": "python3"
  },
  "language_info": {
   "name": "python",
   "version": "3.13.5"
  }
 },
 "nbformat": 4,
 "nbformat_minor": 5
}
