{
 "cells": [
  {
   "cell_type": "markdown",
   "metadata": {},
   "source": [
    "环境配置；简单GUI与图像显示；图像读写与显示；视频显示；摄像头显示;图像创建；图像像素读写；图像像素算术与逻辑操作；图像像素值统计与归一化\n",
    "彩色图像转换与分离；LUT作用与用法；几何图形绘制\n",
    "\n",
    "[视频链接](https://www.bilibili.com/video/BV11L4y1F7KQ/?spm_id_from=333.337.search-card.all.click&vd_source=f1cbf09f0edf7d3d5200cf99e6b6fbb8)"
   ]
  },
  {
   "cell_type": "code",
   "execution_count": null,
   "metadata": {},
   "outputs": [],
   "source": [
    "import cv2 as cv\n",
    "import numpy as np"
   ]
  },
  {
   "cell_type": "code",
   "execution_count": null,
   "metadata": {},
   "outputs": [],
   "source": [
    "src = cv.imread('./images/nezha.png')                   # 读取图像文件，例：\"./images/nezha.png\"\n",
    "cv.namedWindow(\"input\", cv.WINDOW_AUTOSIZE)             # 创建可自动调整大小的窗口，cv.namedWindow(\"名称\", \" 模式\")\n",
    "cv.imshow(\"input\", src)                                 # 显示图像\n",
    "\n",
    "# 生成512x512像素的白色图像模板，使用uint8数据类型确保像素值范围0-255，3通道结构对应BGR色彩空间\n",
    "m5 = np.ones(shape=[512,512,3], dtype=np.uint8)\n",
    "m5[:,:,0] = 255                                         # 所有行(:)和列(:)，第0通道（BGR色彩空间中的蓝色通道）设为255\n",
    "cv.imshow(\"m5\", m5)                                     # 显示纯蓝色图像窗口\n",
    "\n",
    "cv.waitKey(0)                                          # 等待按键，\"0\" 无止境等待下一个按键\n",
    "cv.destroyAllWindows()                                 # 关闭所有窗口\n"
   ]
  },
  {
   "cell_type": "markdown",
   "metadata": {},
   "source": [
    "像素读写"
   ]
  },
  {
   "cell_type": "code",
   "execution_count": null,
   "metadata": {},
   "outputs": [],
   "source": [
    "src = cv.imread(PictureAddress)                       # 读取图像，例：\"D:/images/nezha.png\"\n",
    "cv.namedWindow(\"input\", cv.WINDOW_AUTOSIZE)           # 创建可自动调整大小的窗口\n",
    "cv.imshow(\"input\", src)                               # 显示图像\n",
    "h, w, ch = src.shape\n",
    "print(\"h: %s , w: %s , ch: %s \"%(h, w, ch))           # 打印高度(h)、宽度(w)和通道数(ch)的变量值\n",
    "\n",
    "# 遍历图像中的所有像素并获取它们的BGR值\n",
    "for row in range(h):                                  # 外层循环，遍历图像的高度方向（垂直方向）\n",
    "   for col in range(w):                               # 内层循环，遍历图像的宽度方向（水平方向）\n",
    "     b, g, r = src[row, col]                          # 获取当前像素点的BGR三通道值，src：图像矩阵，row, col：当前像素坐标\n",
    "     print(b,g,r)                                     # 打印当前像素的BGR分量值\n",
    "cv.imshow(\"output\", src)                     # 在\"output\"的窗口中显示图像\n",
    "\n",
    "# 打印高度(h)、宽度(w)和通道数(ch)的变量值的补充\n",
    "#h=src.shape[0]                                       # 返回图像矩阵的第一维度大小，获取图像高度（行数）\n",
    "#w=src.shape[1]                                       # 返回图像矩阵的第二维度大小，获取图像宽度（列数）\n",
    "#ch=src.shape[2]                                      # 返回图像矩阵的第三维度大小（仅彩色图像存在），获取图像通道数\n",
    "#print(\"h: %s , w: %s , ch: %s \"%(h, w, ch))\n",
    "\n",
    "cv.waitKey(0)                                         # 等待按键，\"0\" 无止境等待下一个按键\n",
    "cv.destroyAllWindows()                                # 关闭所有窗口"
   ]
  }
 ],
 "metadata": {
  "language_info": {
   "name": "python"
  }
 },
 "nbformat": 4,
 "nbformat_minor": 2
}
