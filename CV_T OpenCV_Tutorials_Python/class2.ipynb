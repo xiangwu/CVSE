{
 "cells": [
  {
   "cell_type": "code",
   "execution_count": null,
   "metadata": {},
   "outputs": [],
   "source": [
    "# 图像色彩转换"
   ]
  },
  {
   "cell_type": "code",
   "execution_count": null,
   "metadata": {},
   "outputs": [],
   "source": [
    "src = cv.imread(PictureAddress)                       # 读取图像文件\n",
    "cv.namedWindow(\"rgb\", cv.WINDOW_AUTOSIZE)    # 创建可自动调整大小的窗\n",
    "cv.imshow(\"rgb\", src)                        # 显示图像\n",
    "# BGR to HSV\n",
    "hsv = cv.cvtColor(src, cv.COLOR_BGR2HSV)\n",
    "cv.imshow(\"hsv\", hsv)\n",
    "\n",
    "# BGR to YUV\n",
    "yuv = cv.cvtColor(src, cv.COLOR_BGR2YUV)\n",
    "cv.imshow(\"yuv\", yuv)\n",
    "\n",
    "# BGR to YUV\n",
    "ycrcb = cv.cvtColor(src, cv.COLOR_BGR2YCrCb)\n",
    "cv.imshow(\"ycrcb\", ycrcb)\n",
    "#output = src\n",
    "#cv.imshow('output',output)\n",
    "\n",
    "# 补充BGR转灰度图像\n",
    "gray = cv.cvtColor(src, cv.COLOR_BGR2GRAY)\n",
    "cv.imshow(\"gray\", gray)\n",
    "\n",
    "\n",
    "cv.waitKey(0)                                          # 等待按键\n",
    "cv.destroyAllWindows()                                 # 关闭所有窗口"
   ]
  },
  {
   "cell_type": "markdown",
   "metadata": {},
   "source": [
    "# 几何图像绘制"
   ]
  },
  {
   "cell_type": "code",
   "execution_count": null,
   "metadata": {},
   "outputs": [],
   "source": [
    "image= cv.imread(PictureAddress)                                     # 读取图像文件，例：\"D:/images/nezha.png\"\n",
    "\n",
    "# 在输入图像上绘制蓝色矩形（BGR格式(255,0,0)表示蓝色），矩形左上角坐标(100,100)，右下角坐标(300,300)，线宽为2像素，使用8-connected线型（cv.LINE_8）绘制，0指坐标的小数位数\n",
    "src = cv.rectangle(image, (100, 100), (300, 300), (255, 0, 0), 2, cv.LINE_8, 0)\n",
    "# 在输入图像上绘制红色圆形（BGR格式(0,0,255)表示红色），圆心坐标为(256,256)，半径50像素，边框线宽2像素，使用8-connected线型抗锯齿绘制\n",
    "srb = cv.circle(image, (256, 256), 50, (0, 0, 255), 2, cv.LINE_8, 0)\n",
    "# 在输入图像上绘制绿色椭圆（BGR格式(0,255,0)表示绿色），椭圆中心坐标为(256,256)，旋转角度360度，起始角度0度，结束角度360度（完整椭圆），边框线宽2像素，使用8-connected线型抗锯齿绘制\n",
    "srd = cv.ellipse(image, (256, 256), (150, 50), 360, 0, 360, (0, 255, 0), 2, cv.LINE_8, 0)\n",
    "\n",
    "cv.namedWindow(\"input\", cv.WINDOW_AUTOSIZE)                 # 创建可自动调整大小的窗口，cv.namedWindow(\"名称\", \" 模式\")\n",
    "cv.imshow(\"input\", image)                                   # 显示图像\n",
    "\n",
    "# 补充\n",
    "#image=np.zeros((500,500,3),np.uint8)                                # 创建500x500黑色背景图像\n",
    "#cv.line(image,(0,0),(500,500),(255,255,255),5)                      # 上绘制一条白色对角线\n",
    "#cv.rectangle(image,(100,150),(400,400),(0,0,255),5,cv.LINE_8,0)     # 图像上绘制一个红色矩形\n",
    "#cv.circle(image,(250,250),50,(0,255,0),3,cv.LINE_8,0)               # 绘制一个绿色圆形\n",
    "#cv.ellipse(image,(250,250),(100,50),50,0,360,(255,0,0),4,cv.LINE_8,0) # 绘制一个蓝色椭圆\n",
    "#cv.imshow(\"output\",image)                                           # 显示图像\n",
    "\n",
    "cv.waitKey(0)                                                        # 等待按键\n",
    "cv.destroyAllWindows()                                               # 关闭所有窗口"
   ]
  },
  {
   "cell_type": "markdown",
   "metadata": {},
   "source": [
    "# 像素值统计"
   ]
  },
  {
   "cell_type": "code",
   "execution_count": null,
   "metadata": {},
   "outputs": [],
   "source": [
    "src = cv.imread(PictureAddress, cv.IMREAD_GRAYSCALE)           # cv.IMREAD_GRAYSCALE 表示以灰度模式读取图像，图像地址例：\"D:/images/nezha.png\"\n",
    "cv.namedWindow(\"input\", cv.WINDOW_AUTOSIZE)           # 创建可自动调整大小的窗口\n",
    "cv.imshow('input',src)                                # 显示图像\n",
    "\n",
    "\n",
    "# cv.minMaxLoc()是OpenCV中用于分析图像矩阵的核心函数，主要用于获取单通道图像（如灰度图）的极值信息\n",
    "# minVal：图像中的最小像素值（浮点数；maxVal：图像中的最大像素值（浮点数）；minLoc:最小值坐标 (x, y) 的元组；maxLoc：最大值坐标 (x, y) 的元组\n",
    "min, max, minLoc, maxLoc = cv.minMaxLoc(src)\n",
    "print(\"min: %.2f, max: %.2f\"%(min, max))                       # %.2f：控制浮点数保留2位小数\n",
    "print(\"min loc: \", minLoc)                                     # 输出最小值所在位置坐标\n",
    "print(\"max loc: \", maxLoc)                                     # 输出最大值所在位置坐标\n",
    "\n",
    "cv.waitKey(0)                                                  # 等待按键\n",
    "cv.destroyAllWindows()                                         # 关闭所有窗口"
   ]
  },
  {
   "cell_type": "markdown",
   "metadata": {},
   "source": [
    "# 感兴趣区域 ROI"
   ]
  },
  {
   "cell_type": "code",
   "execution_count": null,
   "metadata": {},
   "outputs": [],
   "source": [
    "import cv2 as cv\n",
    "import numpy as np\n",
    "\n",
    "src = cv.imread(PictureAddress)             # 读取图像\n",
    "h, w = src.shape[:2]                        # 提取图像的二维尺寸信息（高度和宽度）\n",
    "\n",
    "# 获取ROI（Region of Interest）\n",
    "cy = h//2                                   #计算图像中心点坐标(cx, cy)\n",
    "cx = w//2\n",
    "# 纵向范围：中心向上260像素至向下50像素，中心左右各100像素，冒号表示保留所有颜色通道\n",
    "roi = src[cy-260:cy+50,cx-100:cx+100,:]\n",
    "\n",
    "# copy ROI\n",
    "image = np.copy(roi)                        # 用NumPy创建图像ROI区域的独立副本，避免原图被修改。保持与原ROI相同的尺寸和数据类型\n",
    "\n",
    "# modify ROI （直接在原数据上修改）\n",
    "#roi[:, :, 0] = 0                           # 将ROI区域的蓝色通道置零，图像会呈现蓝绿色调缺失的效果\n",
    "\n",
    "# modify copy roi\n",
    "image[:, :, 2] = 0                          # 将拷贝图像的红色通道(R)置零，图像会呈现红色调缺失的效果\n",
    "\n",
    "output = image\n",
    "cv.imshow('output',output)         # 显示图像\n",
    "\n",
    "\n",
    "cv.waitKey(0)                               # 等待按键\n",
    "cv.destroyAllWindows()                      # 关闭所有窗口"
   ]
  },
  {
   "cell_type": "markdown",
   "metadata": {},
   "source": [
    "# 图像翻转"
   ]
  },
  {
   "cell_type": "code",
   "execution_count": null,
   "metadata": {},
   "outputs": [],
   "source": [
    "import cv2 as cv\n",
    "import numpy as np\n",
    "\n",
    "\n",
    "src = cv.imread(PictureAddress)                         # 读取图像\n",
    "cv.namedWindow(\"input\", cv.WINDOW_AUTOSIZE)    # 创建可自动调整大小的窗口\n",
    "cv.imshow(\"input\", src)                        # 显示图像\n",
    "\n",
    "# cv.flip(src, 0) 是OpenCV中的图像翻转函数，\n",
    "# X Flip 倒影\n",
    "dst1 = cv.flip(src, 0)                          # 0，垂直翻转，沿x轴\n",
    "cv.imshow(\"x-flip\", dst1)                      # 0：翻转模式代码（0=垂直，1=水平，-1=双向）\n",
    "\n",
    "# Y Flip 镜像\n",
    "dst2 = cv.flip(src, 1)                          # 1，水平翻转，沿y轴\n",
    "cv.imshow(\"y-flip\", dst2)\n",
    "\n",
    "# XY Flip 对角\n",
    "dst3 = cv.flip(src, -1)                                  # -1，对角翻转\n",
    "cv.imshow(\"xy-flip\", dst3)\n",
    "\n",
    "cv.waitKey(0)                                            # 等待按键\n",
    "cv.destroyAllWindows()                                   # 关闭所有窗口\n"
   ]
  },
  {
   "cell_type": "markdown",
   "metadata": {},
   "source": [
    "# 图像插值"
   ]
  },
  {
   "cell_type": "code",
   "execution_count": null,
   "metadata": {},
   "outputs": [],
   "source": [
    "import cv2 as cv \n",
    "\n",
    "src = cv.imread(PictureAddress)                                                             # 读取图像文件\n",
    "cv.namedWindow(\"input\", cv.WINDOW_AUTOSIZE)                                        # 创建可自动调整大小的窗口\n",
    "cv.imshow(\"input\", src)                                                            # 显示图像\n",
    "\n",
    "h, w = src.shape[:2]                                                                        # 提取图像的二维尺寸信息（高度和宽度）\n",
    "print(h, w)\n",
    "\n",
    "# 使用cv2.resize()函数对图像进行尺寸变换，绝对尺寸和相对比例两种参数模式\n",
    "# (300,300)指定目标尺寸，fx/fy=0.75表示宽高各变为原来的0.75倍，当目标尺寸与缩放系数冲突时，以目标尺寸优先\n",
    "dst1 = cv.resize(src, (300, 300), fx=0.75, fy=0.75, interpolation=cv.INTER_NEAREST)   # 使用最近邻插值(INTER_NEAREST)方式（最快）\n",
    "cv.imshow(\"INTER_NEAREST\", dst1)                                                   # 显示图像\n",
    "\n",
    "dst2 = cv.resize(src, (w*1, h*1), interpolation=cv.INTER_LINEAR)                      # 仅使用绝对尺寸（优先执行），采用双线性插值算法INTER_LINEAR,平衡速度与质量（默认)\n",
    "cv.imshow(\"INTER_LINEAR\", dst2)\n",
    "\n",
    "dst3 = cv.resize(src,None,fx=0.75, fy=0.75, interpolation=cv.INTER_CUBIC)             # 仅使用缩放因子，采用三次卷积插值算法INTER_CUBIC（较高质量）\n",
    "cv.imshow(\"INTER_CUBIC\", dst3)\n",
    "\n",
    "dst4 = cv.resize(src, (w*2, h*2), interpolation=cv.INTER_LANCZOS4)                    # 仅使用绝对尺寸，采用Lanczos插值算法\n",
    "cv.imshow(\"INTER_LANCZOS4\", dst4)\n",
    "\n",
    "#补充\n",
    "dst5=cv.resize(src, None,fx=0.5, fy=0.5, interpolation=cv.INTER_AREA)                 # cv.INTER_AREA 使用区域插值算法（INTER_AREA适合图像缩小操作）\n",
    "cv.imshow(\"INTER_AREA\", dst5)\n",
    "\n",
    "cv.waitKey(0)                                                                               # 等待按键\n",
    "cv.destroyAllWindows()                                                                      # 关闭所有窗口"
   ]
  }
 ],
 "metadata": {
  "language_info": {
   "name": "python"
  }
 },
 "nbformat": 4,
 "nbformat_minor": 2
}
